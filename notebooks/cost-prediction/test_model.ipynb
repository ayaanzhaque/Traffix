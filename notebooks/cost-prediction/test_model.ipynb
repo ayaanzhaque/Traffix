{
 "cells": [
  {
   "cell_type": "code",
   "execution_count": 26,
   "metadata": {},
   "outputs": [],
   "source": [
    "import numpy as np\n",
    "import pandas as pd\n",
    "idx = pd.IndexSlice\n",
    "import matplotlib.pyplot as plt"
   ]
  },
  {
   "cell_type": "code",
   "execution_count": 27,
   "metadata": {},
   "outputs": [],
   "source": [
    "from helper import RoadCBA\n",
    "from helper.sample_projects import load_sample_bypass"
   ]
  },
  {
   "cell_type": "code",
   "execution_count": 28,
   "metadata": {},
   "outputs": [],
   "source": [
    "b = load_sample_bypass()"
   ]
  },
  {
   "cell_type": "code",
   "execution_count": 29,
   "metadata": {},
   "outputs": [
    {
     "data": {
      "text/html": [
       "<div>\n",
       "<style scoped>\n",
       "    .dataframe tbody tr th:only-of-type {\n",
       "        vertical-align: middle;\n",
       "    }\n",
       "\n",
       "    .dataframe tbody tr th {\n",
       "        vertical-align: top;\n",
       "    }\n",
       "\n",
       "    .dataframe thead th {\n",
       "        text-align: right;\n",
       "    }\n",
       "</style>\n",
       "<table border=\"1\" class=\"dataframe\">\n",
       "  <thead>\n",
       "    <tr style=\"text-align: right;\">\n",
       "      <th></th>\n",
       "      <th>name</th>\n",
       "      <th>variant_0</th>\n",
       "      <th>variant_1</th>\n",
       "      <th>length</th>\n",
       "      <th>length_bridges</th>\n",
       "      <th>length_tunnels</th>\n",
       "      <th>category</th>\n",
       "      <th>lanes</th>\n",
       "      <th>environment</th>\n",
       "      <th>width</th>\n",
       "      <th>layout</th>\n",
       "      <th>toll_sections</th>\n",
       "    </tr>\n",
       "    <tr>\n",
       "      <th>id_section</th>\n",
       "      <th></th>\n",
       "      <th></th>\n",
       "      <th></th>\n",
       "      <th></th>\n",
       "      <th></th>\n",
       "      <th></th>\n",
       "      <th></th>\n",
       "      <th></th>\n",
       "      <th></th>\n",
       "      <th></th>\n",
       "      <th></th>\n",
       "      <th></th>\n",
       "    </tr>\n",
       "  </thead>\n",
       "  <tbody>\n",
       "    <tr>\n",
       "      <th>0</th>\n",
       "      <td>entrance</td>\n",
       "      <td>1</td>\n",
       "      <td>1</td>\n",
       "      <td>0.5</td>\n",
       "      <td>0.0</td>\n",
       "      <td>0</td>\n",
       "      <td>standard</td>\n",
       "      <td>2</td>\n",
       "      <td>extravilan</td>\n",
       "      <td>9.5</td>\n",
       "      <td>wide</td>\n",
       "      <td>1</td>\n",
       "    </tr>\n",
       "    <tr>\n",
       "      <th>1</th>\n",
       "      <td>city</td>\n",
       "      <td>1</td>\n",
       "      <td>1</td>\n",
       "      <td>4.0</td>\n",
       "      <td>0.0</td>\n",
       "      <td>0</td>\n",
       "      <td>standard</td>\n",
       "      <td>2</td>\n",
       "      <td>intravilan</td>\n",
       "      <td>9.5</td>\n",
       "      <td>narrow</td>\n",
       "      <td>1</td>\n",
       "    </tr>\n",
       "    <tr>\n",
       "      <th>2</th>\n",
       "      <td>exit</td>\n",
       "      <td>1</td>\n",
       "      <td>1</td>\n",
       "      <td>0.4</td>\n",
       "      <td>0.0</td>\n",
       "      <td>0</td>\n",
       "      <td>standard</td>\n",
       "      <td>2</td>\n",
       "      <td>extravilan</td>\n",
       "      <td>9.5</td>\n",
       "      <td>wide</td>\n",
       "      <td>1</td>\n",
       "    </tr>\n",
       "    <tr>\n",
       "      <th>3</th>\n",
       "      <td>bypass</td>\n",
       "      <td>0</td>\n",
       "      <td>1</td>\n",
       "      <td>3.9</td>\n",
       "      <td>0.1</td>\n",
       "      <td>0</td>\n",
       "      <td>standard</td>\n",
       "      <td>2</td>\n",
       "      <td>extravilan</td>\n",
       "      <td>11.5</td>\n",
       "      <td>wide</td>\n",
       "      <td>1</td>\n",
       "    </tr>\n",
       "  </tbody>\n",
       "</table>\n",
       "</div>"
      ],
      "text/plain": [
       "                name  variant_0  variant_1  length  length_bridges  \\\n",
       "id_section                                                           \n",
       "0           entrance          1          1     0.5             0.0   \n",
       "1               city          1          1     4.0             0.0   \n",
       "2               exit          1          1     0.4             0.0   \n",
       "3             bypass          0          1     3.9             0.1   \n",
       "\n",
       "            length_tunnels  category  lanes environment  width  layout  \\\n",
       "id_section                                                               \n",
       "0                        0  standard      2  extravilan    9.5    wide   \n",
       "1                        0  standard      2  intravilan    9.5  narrow   \n",
       "2                        0  standard      2  extravilan    9.5    wide   \n",
       "3                        0  standard      2  extravilan   11.5    wide   \n",
       "\n",
       "            toll_sections  \n",
       "id_section                 \n",
       "0                       1  \n",
       "1                       1  \n",
       "2                       1  \n",
       "3                       1  "
      ]
     },
     "execution_count": 29,
     "metadata": {},
     "output_type": "execute_result"
    }
   ],
   "source": [
    "b[\"RP\"]"
   ]
  },
  {
   "cell_type": "code",
   "execution_count": 30,
   "metadata": {},
   "outputs": [
    {
     "data": {
      "text/html": [
       "<div>\n",
       "<style scoped>\n",
       "    .dataframe tbody tr th:only-of-type {\n",
       "        vertical-align: middle;\n",
       "    }\n",
       "\n",
       "    .dataframe tbody tr th {\n",
       "        vertical-align: top;\n",
       "    }\n",
       "\n",
       "    .dataframe thead th {\n",
       "        text-align: right;\n",
       "    }\n",
       "</style>\n",
       "<table border=\"1\" class=\"dataframe\">\n",
       "  <thead>\n",
       "    <tr style=\"text-align: right;\">\n",
       "      <th></th>\n",
       "      <th></th>\n",
       "      <th>2020</th>\n",
       "      <th>2021</th>\n",
       "      <th>2022</th>\n",
       "    </tr>\n",
       "    <tr>\n",
       "      <th>item</th>\n",
       "      <th>category</th>\n",
       "      <th></th>\n",
       "      <th></th>\n",
       "      <th></th>\n",
       "    </tr>\n",
       "  </thead>\n",
       "  <tbody>\n",
       "    <tr>\n",
       "      <th>planning and design</th>\n",
       "      <th>preparation</th>\n",
       "      <td>150000</td>\n",
       "      <td>150000</td>\n",
       "      <td>150000</td>\n",
       "    </tr>\n",
       "    <tr>\n",
       "      <th>land</th>\n",
       "      <th>preparation</th>\n",
       "      <td>300000</td>\n",
       "      <td>300000</td>\n",
       "      <td>300000</td>\n",
       "    </tr>\n",
       "    <tr>\n",
       "      <th>site preparation</th>\n",
       "      <th>construction</th>\n",
       "      <td>0</td>\n",
       "      <td>0</td>\n",
       "      <td>0</td>\n",
       "    </tr>\n",
       "    <tr>\n",
       "      <th>earthworks</th>\n",
       "      <th>construction</th>\n",
       "      <td>0</td>\n",
       "      <td>0</td>\n",
       "      <td>0</td>\n",
       "    </tr>\n",
       "    <tr>\n",
       "      <th>pavements asphalt</th>\n",
       "      <th>construction</th>\n",
       "      <td>14000000</td>\n",
       "      <td>14000000</td>\n",
       "      <td>14000000</td>\n",
       "    </tr>\n",
       "    <tr>\n",
       "      <th>pavements concrete</th>\n",
       "      <th>construction</th>\n",
       "      <td>0</td>\n",
       "      <td>0</td>\n",
       "      <td>0</td>\n",
       "    </tr>\n",
       "    <tr>\n",
       "      <th>bridges</th>\n",
       "      <th>construction</th>\n",
       "      <td>1500000</td>\n",
       "      <td>1500000</td>\n",
       "      <td>1500000</td>\n",
       "    </tr>\n",
       "    <tr>\n",
       "      <th>tunnels</th>\n",
       "      <th>construction</th>\n",
       "      <td>0</td>\n",
       "      <td>0</td>\n",
       "      <td>0</td>\n",
       "    </tr>\n",
       "    <tr>\n",
       "      <th>buildings</th>\n",
       "      <th>construction</th>\n",
       "      <td>0</td>\n",
       "      <td>0</td>\n",
       "      <td>0</td>\n",
       "    </tr>\n",
       "    <tr>\n",
       "      <th>slope stabilisation</th>\n",
       "      <th>construction</th>\n",
       "      <td>0</td>\n",
       "      <td>0</td>\n",
       "      <td>0</td>\n",
       "    </tr>\n",
       "    <tr>\n",
       "      <th>retaining walls</th>\n",
       "      <th>construction</th>\n",
       "      <td>0</td>\n",
       "      <td>0</td>\n",
       "      <td>0</td>\n",
       "    </tr>\n",
       "    <tr>\n",
       "      <th>noise barriers</th>\n",
       "      <th>construction</th>\n",
       "      <td>300000</td>\n",
       "      <td>300000</td>\n",
       "      <td>300000</td>\n",
       "    </tr>\n",
       "    <tr>\n",
       "      <th>safety features</th>\n",
       "      <th>construction</th>\n",
       "      <td>0</td>\n",
       "      <td>0</td>\n",
       "      <td>0</td>\n",
       "    </tr>\n",
       "    <tr>\n",
       "      <th>technology</th>\n",
       "      <th>construction</th>\n",
       "      <td>0</td>\n",
       "      <td>0</td>\n",
       "      <td>0</td>\n",
       "    </tr>\n",
       "    <tr>\n",
       "      <th>induced investment</th>\n",
       "      <th>construction</th>\n",
       "      <td>0</td>\n",
       "      <td>0</td>\n",
       "      <td>0</td>\n",
       "    </tr>\n",
       "    <tr>\n",
       "      <th>other</th>\n",
       "      <th>construction</th>\n",
       "      <td>0</td>\n",
       "      <td>0</td>\n",
       "      <td>0</td>\n",
       "    </tr>\n",
       "    <tr>\n",
       "      <th>supervision</th>\n",
       "      <th>other</th>\n",
       "      <td>20000</td>\n",
       "      <td>20000</td>\n",
       "      <td>20000</td>\n",
       "    </tr>\n",
       "    <tr>\n",
       "      <th>other services</th>\n",
       "      <th>other</th>\n",
       "      <td>0</td>\n",
       "      <td>0</td>\n",
       "      <td>0</td>\n",
       "    </tr>\n",
       "    <tr>\n",
       "      <th>contingencies</th>\n",
       "      <th>other</th>\n",
       "      <td>0</td>\n",
       "      <td>0</td>\n",
       "      <td>0</td>\n",
       "    </tr>\n",
       "    <tr>\n",
       "      <th>price adjustments</th>\n",
       "      <th>other</th>\n",
       "      <td>0</td>\n",
       "      <td>0</td>\n",
       "      <td>0</td>\n",
       "    </tr>\n",
       "  </tbody>\n",
       "</table>\n",
       "</div>"
      ],
      "text/plain": [
       "                                      2020      2021      2022\n",
       "item                category                                  \n",
       "planning and design preparation     150000    150000    150000\n",
       "land                preparation     300000    300000    300000\n",
       "site preparation    construction         0         0         0\n",
       "earthworks          construction         0         0         0\n",
       "pavements asphalt   construction  14000000  14000000  14000000\n",
       "pavements concrete  construction         0         0         0\n",
       "bridges             construction   1500000   1500000   1500000\n",
       "tunnels             construction         0         0         0\n",
       "buildings           construction         0         0         0\n",
       "slope stabilisation construction         0         0         0\n",
       "retaining walls     construction         0         0         0\n",
       "noise barriers      construction    300000    300000    300000\n",
       "safety features     construction         0         0         0\n",
       "technology          construction         0         0         0\n",
       "induced investment  construction         0         0         0\n",
       "other               construction         0         0         0\n",
       "supervision         other            20000     20000     20000\n",
       "other services      other                0         0         0\n",
       "contingencies       other                0         0         0\n",
       "price adjustments   other                0         0         0"
      ]
     },
     "execution_count": 30,
     "metadata": {},
     "output_type": "execute_result"
    }
   ],
   "source": [
    "b[\"C_fin\"]"
   ]
  },
  {
   "cell_type": "code",
   "execution_count": 31,
   "metadata": {},
   "outputs": [
    {
     "name": "stderr",
     "output_type": "stream",
     "text": [
      "/Users/ayaanhaque/Desktop/Traffix/notebooks/cost-prediction/helper/param_container.py:222: FutureWarning: Indexing with multiple keys (implicitly converted to a tuple of keys) will be deprecated, use a list instead.\n",
      "  vtts = vtts.groupby([\"vehicle\"])[\"gdp_ga2\", \"value2\"].sum()\n"
     ]
    },
    {
     "name": "stdout",
     "output_type": "stream",
     "text": [
      "Done. Time: 2.13 s.\n"
     ]
    }
   ],
   "source": [
    "rcba = RoadCBA(2020, 2020, \"svk\")\n",
    "rcba.load_parameters()\n",
    "rcba.read_project_inputs(*b.values())\n",
    "rcba.economic_analysis()"
   ]
  },
  {
   "cell_type": "code",
   "execution_count": 32,
   "metadata": {},
   "outputs": [
    {
     "name": "stdout",
     "output_type": "stream",
     "text": [
      "ENPV: 3.34 M EUR\n",
      "ERR : 5.62 %\n",
      "BCR : 1.08\n"
     ]
    }
   ],
   "source": [
    "rcba.print_economic_indicators()"
   ]
  },
  {
   "cell_type": "code",
   "execution_count": 33,
   "metadata": {},
   "outputs": [
    {
     "data": {
      "text/plain": [
       "1.0757620136184416"
      ]
     },
     "execution_count": 33,
     "metadata": {},
     "output_type": "execute_result"
    }
   ],
   "source": [
    "rcba.EBCR"
   ]
  },
  {
   "cell_type": "code",
   "execution_count": 34,
   "metadata": {},
   "outputs": [],
   "source": [
    "b = load_sample_bypass()"
   ]
  },
  {
   "cell_type": "code",
   "execution_count": 35,
   "metadata": {},
   "outputs": [],
   "source": [
    "ls = np.arange(3, 5, 0.2)\n",
    "BCRs = []"
   ]
  },
  {
   "cell_type": "code",
   "execution_count": 36,
   "metadata": {
    "scrolled": false
   },
   "outputs": [
    {
     "name": "stdout",
     "output_type": "stream",
     "text": [
      "Done. Time: 2.94 s.\n",
      "Done. Time: 2.95 s.\n",
      "Done. Time: 2.84 s.\n",
      "Done. Time: 3.14 s.\n",
      "Done. Time: 2.47 s.\n",
      "Done. Time: 2.27 s.\n",
      "Done. Time: 2.08 s.\n",
      "Done. Time: 2.03 s.\n",
      "Done. Time: 2.27 s.\n",
      "Done. Time: 2.08 s.\n",
      "CPU times: user 15.6 s, sys: 450 ms, total: 16.1 s\n",
      "Wall time: 26.8 s\n"
     ]
    }
   ],
   "source": [
    "%%time\n",
    "\n",
    "for l in ls:\n",
    "    b[\"RP\"].loc[3, \"length\"] = l\n",
    "    \n",
    "    rcba = RoadCBA(2020, 2020, \"svk\")\n",
    "    rcba.load_parameters()\n",
    "    rcba.read_project_inputs(*b.values())\n",
    "    rcba.economic_analysis()\n",
    "    \n",
    "    BCRs.append(rcba.EBCR)"
   ]
  },
  {
   "cell_type": "code",
   "execution_count": 37,
   "metadata": {},
   "outputs": [
    {
     "data": {
      "image/png": "[encoded data removed]",
      "text/plain": [
       "<Figure size 432x288 with 1 Axes>"
      ]
     },
     "metadata": {
      "needs_background": "light"
     },
     "output_type": "display_data"
    }
   ],
   "source": [
    "plt.plot(ls, BCRs, \"+-\")\n",
    "plt.plot(ls, np.ones_like(ls), \"k--\")\n",
    "plt.xlabel(\"Bypass length (km)\")\n",
    "plt.ylabel(\"BCR\")\n",
    "plt.ylim(bottom=0)\n",
    "plt.xticks(ls)\n",
    "plt.title(\"Fixed price\")\n",
    "plt.grid(linestyle=\"--\")"
   ]
  },
  {
   "cell_type": "code",
   "execution_count": 38,
   "metadata": {},
   "outputs": [],
   "source": [
    "ls = np.arange(3, 5, 0.2)"
   ]
  },
  {
   "cell_type": "code",
   "execution_count": null,
   "metadata": {},
   "outputs": [
    {
     "name": "stderr",
     "output_type": "stream",
     "text": [
      "/Users/ayaanhaque/Desktop/Traffix/notebooks/cost-prediction/helper/param_container.py:222: FutureWarning: Indexing with multiple keys (implicitly converted to a tuple of keys) will be deprecated, use a list instead.\n",
      "  vtts = vtts.groupby([\"vehicle\"])[\"gdp_ga2\", \"value2\"].sum()\n"
     ]
    },
    {
     "name": "stdout",
     "output_type": "stream",
     "text": [
      "Done. Time: 2.26 s.\n",
      "Done. Time: 2.24 s.\n",
      "Done. Time: 2.47 s.\n",
      "Done. Time: 2.73 s.\n",
      "Done. Time: 5.53 s.\n",
      "Done. Time: 4.99 s.\n",
      "Done. Time: 3.94 s.\n",
      "Done. Time: 5.31 s.\n"
     ]
    }
   ],
   "source": [
    "BCRs = []\n",
    "\n",
    "b = load_sample_bypass()\n",
    "l_0 = 3.9\n",
    "capex_0 = b[\"C_fin\"]\n",
    "\n",
    "for l in ls:\n",
    "    b[\"RP\"].loc[3, \"length\"] = l\n",
    "    b[\"C_fin\"] = capex_0 * l / l_0\n",
    "    \n",
    "    rcba = RoadCBA(2020, 2020, \"svk\")\n",
    "    rcba.load_parameters()\n",
    "    rcba.read_project_inputs(*b.values())\n",
    "    rcba.economic_analysis()\n",
    "    BCRs.append(rcba.EBCR)"
   ]
  },
  {
   "cell_type": "code",
   "execution_count": null,
   "metadata": {},
   "outputs": [],
   "source": [
    "plt.plot(ls, BCRs, \"+-\", ms=10, mew=2)\n",
    "plt.plot(ls, np.ones_like(ls), \"k--\")\n",
    "plt.xlabel(\"Bypass length (km)\")\n",
    "plt.ylabel(\"BCR\")\n",
    "plt.xticks(ls)\n",
    "plt.ylim(bottom=0)\n",
    "plt.title(\"Investment depending on bypass length\")\n",
    "plt.grid(linestyle=\"--\")"
   ]
  },
  {
   "cell_type": "code",
   "execution_count": null,
   "metadata": {},
   "outputs": [],
   "source": [
    "yr_op = b[\"C_fin\"].columns[-1] + 1 # first year of operation\n",
    "id_op = list(b[\"I1\"].columns).index(yr_op) # index of the first year of operation\n",
    "\n",
    "secs_old = [0, 1, 2]"
   ]
  },
  {
   "cell_type": "code",
   "execution_count": null,
   "metadata": {},
   "outputs": [],
   "source": [
    "b = load_sample_bypass()\n",
    "\n",
    "dIs = np.linspace(-600, 1000, 9)"
   ]
  },
  {
   "cell_type": "code",
   "execution_count": null,
   "metadata": {},
   "outputs": [],
   "source": [
    "BCRs = []\n",
    "\n",
    "for dI in dIs:\n",
    "    I0 = b[\"I0\"].copy()\n",
    "    I0.loc[idx[:, [\"hgv\", \"car\"]], I0.columns] += dI\n",
    "    \n",
    "    I1 = b[\"I1\"].copy()\n",
    "    I1.loc[idx[3, \"car\"], I1.columns[id_op:]] += dI\n",
    "    I1.loc[idx[3, \"hgv\"], I1.columns[id_op:]] += dI\n",
    "    \n",
    "    I1.loc[idx[secs_old, \"car\"], I1.columns[:id_op]] += dI\n",
    "    I1.loc[idx[secs_old, \"hgv\"], I1.columns[:id_op]] += dI\n",
    "    \n",
    "    rcba = RoadCBA(2020, 2020, \"svk\")\n",
    "    rcba.load_parameters()\n",
    "    rcba.read_project_inputs(b[\"RP\"], b[\"C_fin\"], I0, I1, b[\"V0\"], b[\"V1\"])\n",
    "    rcba.economic_analysis()\n",
    "    BCRs.append(rcba.EBCR)"
   ]
  },
  {
   "cell_type": "code",
   "execution_count": null,
   "metadata": {},
   "outputs": [],
   "source": [
    "plt.plot(dIs, BCRs, \"+-\", ms=10, mew=2)\n",
    "plt.plot(dIs, np.ones_like(dIs), \"k--\")\n",
    "plt.xlabel(\"Excess intensities of cars and HGV (veh/24h)\")\n",
    "plt.ylabel(\"BCR\")\n",
    "plt.xticks(dIs, rotation=90)\n",
    "plt.ylim(bottom=0)\n",
    "plt.title(\"Variation in intensities\")\n",
    "plt.grid(linestyle=\"--\")"
   ]
  },
  {
   "cell_type": "code",
   "execution_count": null,
   "metadata": {},
   "outputs": [],
   "source": [
    "b = load_sample_bypass()"
   ]
  },
  {
   "cell_type": "code",
   "execution_count": null,
   "metadata": {},
   "outputs": [],
   "source": [
    "yr_i = b[\"C_fin\"].columns[0]\n",
    "N_yrs_bld = list(range(1, 6))"
   ]
  },
  {
   "cell_type": "code",
   "execution_count": null,
   "metadata": {},
   "outputs": [],
   "source": [
    "# fill values before the official start\n",
    "\n",
    "yr = yr_op - 1\n",
    "while yr >= yr_i:\n",
    "    growth_fac = (b[\"I1\"][yr+2] / b[\"I1\"][yr+1]).fillna(1)\n",
    "    b[\"I1\"][yr] = (b[\"I1\"][yr+1] / growth_fac).astype(int)\n",
    "    yr -= 1 "
   ]
  },
  {
   "cell_type": "code",
   "execution_count": null,
   "metadata": {},
   "outputs": [],
   "source": [
    "capex = b[\"C_fin\"].copy()"
   ]
  },
  {
   "cell_type": "code",
   "execution_count": null,
   "metadata": {},
   "outputs": [],
   "source": [
    "BCRs = []\n",
    "\n",
    "for N_yr_bld in N_yrs_bld:\n",
    "    yrs_bld = np.arange(yr_i, yr_i + N_yr_bld)\n",
    "    \n",
    "    # restructure CAPEX\n",
    "    capex = pd.DataFrame(pd.concat([b[\"C_fin\"].sum(1)] * N_yr_bld, 1) / N_yr_bld)\n",
    "    capex.columns = yrs_bld\n",
    "    \n",
    "    # recompute intensities\n",
    "    I1 = b[\"I1\"].copy()\n",
    "    I1[yrs_bld] = I0[yrs_bld]\n",
    "    I1 = I1.fillna(0)\n",
    "    \n",
    "    rcba = RoadCBA(2020, 2020, \"svk\")\n",
    "    rcba.load_parameters()\n",
    "    rcba.read_project_inputs(b[\"RP\"], capex, b[\"I0\"], I1, b[\"V0\"], b[\"V1\"])\n",
    "    rcba.economic_analysis()\n",
    "    BCRs.append(rcba.EBCR)"
   ]
  },
  {
   "cell_type": "code",
   "execution_count": null,
   "metadata": {},
   "outputs": [],
   "source": [
    "plt.plot(N_yrs_bld, BCRs, \"+-\", ms=10, mew=2)\n",
    "plt.plot(N_yrs_bld, np.ones_like(N_yrs_bld), \"k--\")\n",
    "plt.xlabel(\"Period of construction (years)\")\n",
    "plt.ylabel(\"BCR\")\n",
    "plt.xticks(N_yrs_bld)\n",
    "plt.ylim(bottom=0)\n",
    "plt.title(\"Varying period of construction\")\n",
    "plt.grid(linestyle=\"--\")"
   ]
  },
  {
   "cell_type": "code",
   "execution_count": null,
   "metadata": {},
   "outputs": [],
   "source": []
  }
 ],
 "metadata": {
  "kernelspec": {
   "display_name": "Python 3",
   "language": "python",
   "name": "python3"
  },
  "language_info": {
   "codemirror_mode": {
    "name": "ipython",
    "version": 3
   },
   "file_extension": ".py",
   "mimetype": "text/x-python",
   "name": "python",
   "nbconvert_exporter": "python",
   "pygments_lexer": "ipython3",
   "version": "3.7.6"
  }
 },
 "nbformat": 4,
 "nbformat_minor": 2
}
